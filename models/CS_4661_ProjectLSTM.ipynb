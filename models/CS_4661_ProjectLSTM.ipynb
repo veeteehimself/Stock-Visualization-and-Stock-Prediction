{
 "cells": [
  {
   "cell_type": "markdown",
   "metadata": {},
   "source": [
    "## Importing needed required libraries, also using Tensorflow which is not included in conda you will need to pip install it prior to running this notebook\n",
    "### creating df from github repositiory we have created"
   ]
  },
  {
   "cell_type": "code",
   "execution_count": 2,
   "metadata": {},
   "outputs": [
    {
     "name": "stderr",
     "output_type": "stream",
     "text": [
      "2022-12-05 09:09:59.596870: I tensorflow/core/platform/cpu_feature_guard.cc:193] This TensorFlow binary is optimized with oneAPI Deep Neural Network Library (oneDNN) to use the following CPU instructions in performance-critical operations:  AVX2 FMA\n",
      "To enable them in other operations, rebuild TensorFlow with the appropriate compiler flags.\n"
     ]
    }
   ],
   "source": [
    "import pandas as pd\n",
    "import numpy as np\n",
    "import pandas as pd\n",
    "import tensorflow as tf\n",
    "import ssl\n",
    "from sklearn.preprocessing import MinMaxScaler\n",
    "import matplotlib.pyplot as plt\n",
    "import math\n",
    "from sklearn.metrics import mean_squared_error\n",
    "\n",
    "\n",
    "\n",
    "ssl._create_default_https_context = ssl._create_unverified_context\n",
    "df = pd.read_csv(\"https://raw.githubusercontent.com/LyJacky/stocks/4802f4e0f139ee0568afbad309086d90c78a53b7/all_stocks_5yr.csv\")\n"
   ]
  },
  {
   "cell_type": "markdown",
   "metadata": {},
   "source": [
    "### In the dataset each stock has 1259 days of stocks which is why we have picked the first 1259 days.\n",
    "\n"
   ]
  },
  {
   "cell_type": "code",
   "execution_count": 3,
   "metadata": {},
   "outputs": [
    {
     "data": {
      "text/plain": [
       "0       14.75\n",
       "1       14.46\n",
       "2       14.27\n",
       "3       14.66\n",
       "4       13.99\n",
       "        ...  \n",
       "1254    53.88\n",
       "1255    52.10\n",
       "1256    49.76\n",
       "1257    51.18\n",
       "1258    51.40\n",
       "Name: close, Length: 1259, dtype: float64"
      ]
     },
     "execution_count": 3,
     "metadata": {},
     "output_type": "execute_result"
    }
   ],
   "source": [
    "df1 = df.reset_index()['close']\n",
    "# only for AAL stock\n",
    "df1 = df1[0:1259]\n",
    "df1"
   ]
  },
  {
   "cell_type": "markdown",
   "metadata": {},
   "source": [
    "### Plotting the graph of the closing price vs the date(implied)\n",
    "### Only using the closing price to predict the price, the x axis represents the days"
   ]
  },
  {
   "cell_type": "code",
   "execution_count": 4,
   "metadata": {},
   "outputs": [
    {
     "data": {
      "text/plain": [
       "[<matplotlib.lines.Line2D at 0x16af0ca30>]"
      ]
     },
     "execution_count": 4,
     "metadata": {},
     "output_type": "execute_result"
    },
    {
     "data": {
      "image/png": "[encoded data removed]",
      "text/plain": [
       "<Figure size 432x288 with 1 Axes>"
      ]
     },
     "metadata": {
      "needs_background": "light"
     },
     "output_type": "display_data"
    }
   ],
   "source": [
    "plt.plot(df1)"
   ]
  },
  {
   "cell_type": "markdown",
   "metadata": {},
   "source": [
    "## Normalizing the data using MinMaxScaler to values between 0 and 1"
   ]
  },
  {
   "cell_type": "code",
   "execution_count": 5,
   "metadata": {},
   "outputs": [
    {
     "data": {
      "text/plain": [
       "array([[0.03806381],\n",
       "       [0.03168317],\n",
       "       [0.02750275],\n",
       "       ...,\n",
       "       [0.80836084],\n",
       "       [0.83960396],\n",
       "       [0.84444444]])"
      ]
     },
     "execution_count": 5,
     "metadata": {},
     "output_type": "execute_result"
    }
   ],
   "source": [
    "# scales the close values between the values 0 and 1\n",
    "scaler=MinMaxScaler(feature_range=(0,1))\n",
    "df1=scaler.fit_transform(np.array(df1).reshape(-1,1))\n",
    "df1"
   ]
  },
  {
   "cell_type": "markdown",
   "metadata": {},
   "source": [
    "## Making training and testing data, since we are dealing with stocks we must split them in a sequential way having the training data have data all before one of the testing data. \n",
    "### The data will basically be partitioned into the first .65% being training and the other testing "
   ]
  },
  {
   "cell_type": "code",
   "execution_count": 6,
   "metadata": {},
   "outputs": [],
   "source": [
    "# training size is the number of data we are going to use for the traning data\n",
    "training_size=int(len(df1)*0.65)\n",
    "# test_size is just the complement of training size.\n",
    "test_size=len(df1)-training_size\n",
    "# makes 2 new lists train_data and test_data which are both subsets of the df1\n",
    "# train_data is going to be df1 from 0 to training size, and tet_data will be from training size to the rest of the data\n",
    "train_data,test_data=df1[0:training_size,:],df1[training_size:len(df1),:1]"
   ]
  },
  {
   "cell_type": "markdown",
   "metadata": {},
   "source": [
    "## Since we are going to deal with LSTM's the input must be a sequence. Hence all of our X_train and X_test will be a sequence of the price 100 days prior the current day\n",
    "### The y train and test will jus tbe the stock of the day of"
   ]
  },
  {
   "cell_type": "code",
   "execution_count": 7,
   "metadata": {},
   "outputs": [],
   "source": [
    "time_step = 100\n",
    "X_train, y_train = [], []\n",
    "for i in range(len(train_data)-time_step-1):\n",
    "    a = train_data[i:(i+time_step), 0]   \n",
    "    X_train.append(a)\n",
    "    y_train.append(train_data[i + time_step, 0])\n",
    "\n",
    "\n",
    "X_test, ytest = [], []\n",
    "for i in range(len(test_data)-time_step-1):\n",
    "    a = test_data[i:(i+time_step), 0]   \n",
    "    X_test.append(a)\n",
    "    ytest.append(test_data[i + time_step, 0])"
   ]
  },
  {
   "cell_type": "markdown",
   "metadata": {},
   "source": [
    "### Converting all of the lists intp np arrays in order to reshape the list in a later stage so that the keras libary has the proper inputs for the necessary functions"
   ]
  },
  {
   "cell_type": "code",
   "execution_count": 8,
   "metadata": {},
   "outputs": [],
   "source": [
    "X_train = np.array(X_train)\n",
    "y_train = np.array(y_train)\n",
    "X_test = np.array(X_test)\n",
    "ytest = np.array(ytest)"
   ]
  },
  {
   "cell_type": "code",
   "execution_count": 9,
   "metadata": {},
   "outputs": [
    {
     "data": {
      "text/plain": [
       "array([[0.03806381, 0.03168317, 0.02750275, ..., 0.07480748, 0.08316832,\n",
       "        0.0750275 ],\n",
       "       [0.03168317, 0.02750275, 0.03608361, ..., 0.08316832, 0.0750275 ,\n",
       "        0.08206821],\n",
       "       [0.02750275, 0.03608361, 0.02134213, ..., 0.0750275 , 0.08206821,\n",
       "        0.0840484 ],\n",
       "       ...,\n",
       "       [0.67392739, 0.68360836, 0.63960396, ..., 0.47678768, 0.47106711,\n",
       "        0.47436744],\n",
       "       [0.68360836, 0.63960396, 0.63256326, ..., 0.47106711, 0.47436744,\n",
       "        0.44422442],\n",
       "       [0.63960396, 0.63256326, 0.65071507, ..., 0.47436744, 0.44422442,\n",
       "        0.43531353]])"
      ]
     },
     "execution_count": 9,
     "metadata": {},
     "output_type": "execute_result"
    }
   ],
   "source": [
    "X_train"
   ]
  },
  {
   "cell_type": "markdown",
   "metadata": {},
   "source": [
    "## Reshaping the list thanks to np arrays where the 3rd dim is the number of features"
   ]
  },
  {
   "cell_type": "code",
   "execution_count": 10,
   "metadata": {},
   "outputs": [],
   "source": [
    "# last one says one feature, reshapes features so its a 3 dim and the last dim is the number of features\n",
    "X_train = X_train.reshape(X_train.shape[0],X_train.shape[1] , 1)\n",
    "X_test = X_test.reshape(X_test.shape[0],X_test.shape[1] , 1)"
   ]
  },
  {
   "cell_type": "markdown",
   "metadata": {},
   "source": [
    "## Importing proper libraries for LSTM and neural networks"
   ]
  },
  {
   "cell_type": "code",
   "execution_count": 11,
   "metadata": {},
   "outputs": [],
   "source": [
    "from tensorflow.keras.models import Sequential\n",
    "from tensorflow.keras.layers import Dense\n",
    "from tensorflow.keras.layers import LSTM"
   ]
  },
  {
   "cell_type": "markdown",
   "metadata": {},
   "source": [
    "### Creating LSTM Model with one input layer, another 3 layers of 50 LSTM nodes (whenever we have an LSTM layer we must do return sequence since LSTM require sequences), hence for the last layer we must put return sequence false which is the default\n",
    "### Training the LSTM Model with 100 epochs which represents the 100 days"
   ]
  },
  {
   "cell_type": "code",
   "execution_count": 12,
   "metadata": {},
   "outputs": [
    {
     "name": "stderr",
     "output_type": "stream",
     "text": [
      "2022-12-05 09:10:22.648357: I tensorflow/core/platform/cpu_feature_guard.cc:193] This TensorFlow binary is optimized with oneAPI Deep Neural Network Library (oneDNN) to use the following CPU instructions in performance-critical operations:  AVX2 FMA\n",
      "To enable them in other operations, rebuild TensorFlow with the appropriate compiler flags.\n"
     ]
    },
    {
     "name": "stdout",
     "output_type": "stream",
     "text": [
      "Epoch 1/100\n",
      "12/12 [==============================] - 9s 222ms/step - loss: 0.1189 - val_loss: 0.0117\n",
      "Epoch 2/100\n",
      "12/12 [==============================] - 1s 95ms/step - loss: 0.0144 - val_loss: 0.0033\n",
      "Epoch 3/100\n",
      "12/12 [==============================] - 1s 92ms/step - loss: 0.0082 - val_loss: 0.0165\n",
      "Epoch 4/100\n",
      "12/12 [==============================] - 1s 91ms/step - loss: 0.0058 - val_loss: 0.0039\n",
      "Epoch 5/100\n",
      "12/12 [==============================] - 1s 92ms/step - loss: 0.0038 - val_loss: 0.0032\n",
      "Epoch 6/100\n",
      "12/12 [==============================] - 1s 93ms/step - loss: 0.0033 - val_loss: 0.0044\n",
      "Epoch 7/100\n",
      "12/12 [==============================] - 1s 92ms/step - loss: 0.0031 - val_loss: 0.0045\n",
      "Epoch 8/100\n",
      "12/12 [==============================] - 1s 92ms/step - loss: 0.0032 - val_loss: 0.0031\n",
      "Epoch 9/100\n",
      "12/12 [==============================] - 1s 92ms/step - loss: 0.0031 - val_loss: 0.0030\n",
      "Epoch 10/100\n",
      "12/12 [==============================] - 1s 93ms/step - loss: 0.0030 - val_loss: 0.0032\n",
      "Epoch 11/100\n",
      "12/12 [==============================] - 1s 93ms/step - loss: 0.0029 - val_loss: 0.0036\n",
      "Epoch 12/100\n",
      "12/12 [==============================] - 1s 92ms/step - loss: 0.0029 - val_loss: 0.0032\n",
      "Epoch 13/100\n",
      "12/12 [==============================] - 1s 92ms/step - loss: 0.0029 - val_loss: 0.0029\n",
      "Epoch 14/100\n",
      "12/12 [==============================] - 1s 92ms/step - loss: 0.0029 - val_loss: 0.0031\n",
      "Epoch 15/100\n",
      "12/12 [==============================] - 1s 92ms/step - loss: 0.0028 - val_loss: 0.0031\n",
      "Epoch 16/100\n",
      "12/12 [==============================] - 1s 91ms/step - loss: 0.0027 - val_loss: 0.0032\n",
      "Epoch 17/100\n",
      "12/12 [==============================] - 1s 94ms/step - loss: 0.0027 - val_loss: 0.0035\n",
      "Epoch 18/100\n",
      "12/12 [==============================] - 1s 99ms/step - loss: 0.0031 - val_loss: 0.0024\n",
      "Epoch 19/100\n",
      "12/12 [==============================] - 1s 99ms/step - loss: 0.0027 - val_loss: 0.0023\n",
      "Epoch 20/100\n",
      "12/12 [==============================] - 1s 97ms/step - loss: 0.0026 - val_loss: 0.0029\n",
      "Epoch 21/100\n",
      "12/12 [==============================] - 1s 93ms/step - loss: 0.0026 - val_loss: 0.0031\n",
      "Epoch 22/100\n",
      "12/12 [==============================] - 1s 96ms/step - loss: 0.0025 - val_loss: 0.0038\n",
      "Epoch 23/100\n",
      "12/12 [==============================] - 1s 92ms/step - loss: 0.0027 - val_loss: 0.0022\n",
      "Epoch 24/100\n",
      "12/12 [==============================] - 1s 93ms/step - loss: 0.0027 - val_loss: 0.0023\n",
      "Epoch 25/100\n",
      "12/12 [==============================] - 1s 92ms/step - loss: 0.0026 - val_loss: 0.0021\n",
      "Epoch 26/100\n",
      "12/12 [==============================] - 1s 92ms/step - loss: 0.0025 - val_loss: 0.0021\n",
      "Epoch 27/100\n",
      "12/12 [==============================] - 1s 92ms/step - loss: 0.0025 - val_loss: 0.0024\n",
      "Epoch 28/100\n",
      "12/12 [==============================] - 1s 95ms/step - loss: 0.0023 - val_loss: 0.0020\n",
      "Epoch 29/100\n",
      "12/12 [==============================] - 1s 115ms/step - loss: 0.0023 - val_loss: 0.0024\n",
      "Epoch 30/100\n",
      "12/12 [==============================] - 1s 100ms/step - loss: 0.0023 - val_loss: 0.0022\n",
      "Epoch 31/100\n",
      "12/12 [==============================] - 1s 117ms/step - loss: 0.0024 - val_loss: 0.0031\n",
      "Epoch 32/100\n",
      "12/12 [==============================] - 1s 96ms/step - loss: 0.0024 - val_loss: 0.0021\n",
      "Epoch 33/100\n",
      "12/12 [==============================] - 1s 98ms/step - loss: 0.0025 - val_loss: 0.0024\n",
      "Epoch 34/100\n",
      "12/12 [==============================] - 1s 102ms/step - loss: 0.0023 - val_loss: 0.0035\n",
      "Epoch 35/100\n",
      "12/12 [==============================] - 1s 109ms/step - loss: 0.0022 - val_loss: 0.0019\n",
      "Epoch 36/100\n",
      "12/12 [==============================] - 1s 102ms/step - loss: 0.0022 - val_loss: 0.0018\n",
      "Epoch 37/100\n",
      "12/12 [==============================] - 1s 109ms/step - loss: 0.0022 - val_loss: 0.0031\n",
      "Epoch 38/100\n",
      "12/12 [==============================] - 1s 114ms/step - loss: 0.0023 - val_loss: 0.0019\n",
      "Epoch 39/100\n",
      "12/12 [==============================] - 1s 97ms/step - loss: 0.0022 - val_loss: 0.0019\n",
      "Epoch 40/100\n",
      "12/12 [==============================] - 1s 111ms/step - loss: 0.0021 - val_loss: 0.0021\n",
      "Epoch 41/100\n",
      "12/12 [==============================] - 2s 128ms/step - loss: 0.0021 - val_loss: 0.0017\n",
      "Epoch 42/100\n",
      "12/12 [==============================] - 2s 141ms/step - loss: 0.0021 - val_loss: 0.0018\n",
      "Epoch 43/100\n",
      "12/12 [==============================] - 1s 118ms/step - loss: 0.0020 - val_loss: 0.0017\n",
      "Epoch 44/100\n",
      "12/12 [==============================] - 1s 126ms/step - loss: 0.0020 - val_loss: 0.0018\n",
      "Epoch 45/100\n",
      "12/12 [==============================] - 1s 114ms/step - loss: 0.0020 - val_loss: 0.0018\n",
      "Epoch 46/100\n",
      "12/12 [==============================] - 1s 105ms/step - loss: 0.0020 - val_loss: 0.0020\n",
      "Epoch 47/100\n",
      "12/12 [==============================] - 1s 102ms/step - loss: 0.0021 - val_loss: 0.0016\n",
      "Epoch 48/100\n",
      "12/12 [==============================] - 1s 95ms/step - loss: 0.0020 - val_loss: 0.0020\n",
      "Epoch 49/100\n",
      "12/12 [==============================] - 1s 107ms/step - loss: 0.0021 - val_loss: 0.0016\n",
      "Epoch 50/100\n",
      "12/12 [==============================] - 1s 110ms/step - loss: 0.0019 - val_loss: 0.0033\n",
      "Epoch 51/100\n",
      "12/12 [==============================] - 1s 118ms/step - loss: 0.0020 - val_loss: 0.0017\n",
      "Epoch 52/100\n",
      "12/12 [==============================] - 1s 96ms/step - loss: 0.0020 - val_loss: 0.0018\n",
      "Epoch 53/100\n",
      "12/12 [==============================] - 1s 94ms/step - loss: 0.0019 - val_loss: 0.0020\n",
      "Epoch 54/100\n",
      "12/12 [==============================] - 1s 98ms/step - loss: 0.0019 - val_loss: 0.0015\n",
      "Epoch 55/100\n",
      "12/12 [==============================] - 1s 94ms/step - loss: 0.0019 - val_loss: 0.0023\n",
      "Epoch 56/100\n",
      "12/12 [==============================] - 1s 104ms/step - loss: 0.0019 - val_loss: 0.0015\n",
      "Epoch 57/100\n",
      "12/12 [==============================] - 1s 104ms/step - loss: 0.0020 - val_loss: 0.0014\n",
      "Epoch 58/100\n",
      "12/12 [==============================] - 1s 109ms/step - loss: 0.0020 - val_loss: 0.0027\n",
      "Epoch 59/100\n",
      "12/12 [==============================] - 1s 107ms/step - loss: 0.0021 - val_loss: 0.0018\n",
      "Epoch 60/100\n",
      "12/12 [==============================] - 1s 121ms/step - loss: 0.0019 - val_loss: 0.0015\n",
      "Epoch 61/100\n",
      "12/12 [==============================] - 1s 121ms/step - loss: 0.0017 - val_loss: 0.0018\n",
      "Epoch 62/100\n",
      "12/12 [==============================] - 1s 122ms/step - loss: 0.0017 - val_loss: 0.0014\n",
      "Epoch 63/100\n",
      "12/12 [==============================] - 1s 101ms/step - loss: 0.0017 - val_loss: 0.0013\n",
      "Epoch 64/100\n",
      "12/12 [==============================] - 1s 105ms/step - loss: 0.0018 - val_loss: 0.0027\n",
      "Epoch 65/100\n",
      "12/12 [==============================] - 1s 107ms/step - loss: 0.0019 - val_loss: 0.0013\n",
      "Epoch 66/100\n",
      "12/12 [==============================] - 1s 108ms/step - loss: 0.0016 - val_loss: 0.0012\n",
      "Epoch 67/100\n",
      "12/12 [==============================] - 1s 100ms/step - loss: 0.0017 - val_loss: 0.0012\n",
      "Epoch 68/100\n",
      "12/12 [==============================] - 1s 103ms/step - loss: 0.0016 - val_loss: 0.0028\n",
      "Epoch 69/100\n",
      "12/12 [==============================] - 1s 114ms/step - loss: 0.0017 - val_loss: 0.0011\n",
      "Epoch 70/100\n",
      "12/12 [==============================] - 1s 115ms/step - loss: 0.0016 - val_loss: 0.0011\n",
      "Epoch 71/100\n",
      "12/12 [==============================] - 1s 93ms/step - loss: 0.0016 - val_loss: 0.0011\n",
      "Epoch 72/100\n",
      "12/12 [==============================] - 1s 101ms/step - loss: 0.0014 - val_loss: 0.0011\n",
      "Epoch 73/100\n",
      "12/12 [==============================] - 1s 101ms/step - loss: 0.0015 - val_loss: 0.0019\n",
      "Epoch 74/100\n",
      "12/12 [==============================] - 1s 103ms/step - loss: 0.0014 - val_loss: 0.0019\n",
      "Epoch 75/100\n",
      "12/12 [==============================] - 1s 105ms/step - loss: 0.0016 - val_loss: 0.0012\n",
      "Epoch 76/100\n",
      "12/12 [==============================] - 1s 115ms/step - loss: 0.0014 - val_loss: 9.9166e-04\n",
      "Epoch 77/100\n",
      "12/12 [==============================] - 1s 95ms/step - loss: 0.0013 - val_loss: 0.0012\n",
      "Epoch 78/100\n",
      "12/12 [==============================] - 1s 93ms/step - loss: 0.0013 - val_loss: 9.2244e-04\n",
      "Epoch 79/100\n",
      "12/12 [==============================] - 1s 103ms/step - loss: 0.0012 - val_loss: 8.9686e-04\n",
      "Epoch 80/100\n",
      "12/12 [==============================] - 1s 108ms/step - loss: 0.0012 - val_loss: 0.0013\n",
      "Epoch 81/100\n",
      "12/12 [==============================] - 1s 95ms/step - loss: 0.0013 - val_loss: 9.8102e-04\n",
      "Epoch 82/100\n",
      "12/12 [==============================] - 1s 98ms/step - loss: 0.0012 - val_loss: 0.0014\n",
      "Epoch 83/100\n",
      "12/12 [==============================] - 1s 94ms/step - loss: 0.0011 - val_loss: 0.0013\n",
      "Epoch 84/100\n",
      "12/12 [==============================] - 1s 95ms/step - loss: 0.0011 - val_loss: 9.0265e-04\n",
      "Epoch 85/100\n",
      "12/12 [==============================] - 1s 96ms/step - loss: 0.0010 - val_loss: 0.0010\n",
      "Epoch 86/100\n",
      "12/12 [==============================] - 1s 105ms/step - loss: 0.0011 - val_loss: 9.3430e-04\n",
      "Epoch 87/100\n",
      "12/12 [==============================] - 1s 107ms/step - loss: 0.0011 - val_loss: 0.0025\n",
      "Epoch 88/100\n",
      "12/12 [==============================] - 1s 98ms/step - loss: 0.0018 - val_loss: 0.0016\n",
      "Epoch 89/100\n",
      "12/12 [==============================] - 1s 98ms/step - loss: 0.0012 - val_loss: 0.0010\n",
      "Epoch 90/100\n",
      "12/12 [==============================] - 1s 103ms/step - loss: 0.0011 - val_loss: 0.0016\n",
      "Epoch 91/100\n",
      "12/12 [==============================] - 1s 112ms/step - loss: 9.8223e-04 - val_loss: 7.9684e-04\n",
      "Epoch 92/100\n",
      "12/12 [==============================] - 1s 109ms/step - loss: 9.4213e-04 - val_loss: 0.0012\n",
      "Epoch 93/100\n",
      "12/12 [==============================] - 1s 100ms/step - loss: 0.0011 - val_loss: 0.0013\n",
      "Epoch 94/100\n",
      "12/12 [==============================] - 1s 107ms/step - loss: 9.3157e-04 - val_loss: 8.7557e-04\n",
      "Epoch 95/100\n",
      "12/12 [==============================] - 1s 111ms/step - loss: 9.2549e-04 - val_loss: 7.6917e-04\n",
      "Epoch 96/100\n",
      "12/12 [==============================] - 1s 104ms/step - loss: 9.7236e-04 - val_loss: 8.1082e-04\n",
      "Epoch 97/100\n",
      "12/12 [==============================] - 1s 98ms/step - loss: 0.0010 - val_loss: 0.0017\n",
      "Epoch 98/100\n",
      "12/12 [==============================] - 1s 97ms/step - loss: 9.4081e-04 - val_loss: 7.2887e-04\n",
      "Epoch 99/100\n",
      "12/12 [==============================] - 1s 104ms/step - loss: 0.0010 - val_loss: 7.7119e-04\n",
      "Epoch 100/100\n",
      "12/12 [==============================] - 1s 109ms/step - loss: 0.0011 - val_loss: 8.7286e-04\n"
     ]
    },
    {
     "data": {
      "text/plain": [
       "<keras.callbacks.History at 0x16b603eb0>"
      ]
     },
     "execution_count": 12,
     "metadata": {},
     "output_type": "execute_result"
    }
   ],
   "source": [
    "# Building the LSTM model using keras\n",
    "# input node is a sequence since LSTM accept sequences\n",
    "model=Sequential()\n",
    "# goes to a layer of 50 LSTM nodes which return a sequence\n",
    "model.add(LSTM(50,return_sequences=True,input_shape=(100,1)))\n",
    "# goes to another layer of 50 LSTM nodes which return a sequence\n",
    "model.add(LSTM(50,return_sequences=True))\n",
    "# goes to the last layer of 50 LSTM node, and does not return a sequence since the next layer will be one node\n",
    "model.add(LSTM(50))\n",
    "model.add(Dense(1))\n",
    "model.compile(loss='mean_squared_error',optimizer='adam')\n",
    "model.fit(X_train,y_train,validation_data=(X_test,ytest),epochs=100,batch_size=64,verbose=1)\n"
   ]
  },
  {
   "cell_type": "markdown",
   "metadata": {},
   "source": [
    "### Predicting based on the trained model"
   ]
  },
  {
   "cell_type": "code",
   "execution_count": 13,
   "metadata": {},
   "outputs": [
    {
     "name": "stdout",
     "output_type": "stream",
     "text": [
      "23/23 [==============================] - 2s 21ms/step\n",
      "11/11 [==============================] - 0s 20ms/step\n"
     ]
    }
   ],
   "source": [
    "train_predict=model.predict(X_train)\n",
    "test_predict=model.predict(X_test)"
   ]
  },
  {
   "cell_type": "code",
   "execution_count": 14,
   "metadata": {},
   "outputs": [
    {
     "data": {
      "text/plain": [
       "array([[0.5250279 ],\n",
       "       [0.52888674],\n",
       "       [0.5374075 ],\n",
       "       [0.5471576 ],\n",
       "       [0.5560297 ],\n",
       "       [0.56336355],\n",
       "       [0.5662933 ],\n",
       "       [0.5706199 ],\n",
       "       [0.57301116],\n",
       "       [0.57005006],\n",
       "       [0.57233995],\n",
       "       [0.57658416],\n",
       "       [0.5805905 ],\n",
       "       [0.58674186],\n",
       "       [0.59892505],\n",
       "       [0.6125264 ],\n",
       "       [0.6201524 ],\n",
       "       [0.6210568 ],\n",
       "       [0.617153  ],\n",
       "       [0.61023194],\n",
       "       [0.6064108 ],\n",
       "       [0.6070924 ],\n",
       "       [0.61304134],\n",
       "       [0.6171774 ],\n",
       "       [0.6178239 ],\n",
       "       [0.61449355],\n",
       "       [0.61122924],\n",
       "       [0.6173299 ],\n",
       "       [0.62979686],\n",
       "       [0.64584625],\n",
       "       [0.65901613],\n",
       "       [0.66914845],\n",
       "       [0.6771435 ],\n",
       "       [0.688722  ],\n",
       "       [0.6989192 ],\n",
       "       [0.7120418 ],\n",
       "       [0.726449  ],\n",
       "       [0.73692524],\n",
       "       [0.74188757],\n",
       "       [0.7438925 ],\n",
       "       [0.74708086],\n",
       "       [0.7495623 ],\n",
       "       [0.7532676 ],\n",
       "       [0.7549976 ],\n",
       "       [0.7514948 ],\n",
       "       [0.7477798 ],\n",
       "       [0.74401414],\n",
       "       [0.7452393 ],\n",
       "       [0.7613205 ],\n",
       "       [0.779477  ],\n",
       "       [0.8001872 ],\n",
       "       [0.8051211 ],\n",
       "       [0.7982864 ],\n",
       "       [0.7877661 ],\n",
       "       [0.7816866 ],\n",
       "       [0.7776622 ],\n",
       "       [0.7810064 ],\n",
       "       [0.7918456 ],\n",
       "       [0.805244  ],\n",
       "       [0.81127524],\n",
       "       [0.80890536],\n",
       "       [0.80316496],\n",
       "       [0.7929835 ],\n",
       "       [0.78114504],\n",
       "       [0.7694282 ],\n",
       "       [0.75954163],\n",
       "       [0.75596887],\n",
       "       [0.7531871 ],\n",
       "       [0.75241417],\n",
       "       [0.7573955 ],\n",
       "       [0.771729  ],\n",
       "       [0.78817534],\n",
       "       [0.79669356],\n",
       "       [0.79394436],\n",
       "       [0.78007126],\n",
       "       [0.7688771 ],\n",
       "       [0.7624895 ],\n",
       "       [0.76514584],\n",
       "       [0.76711696],\n",
       "       [0.77016073],\n",
       "       [0.7752049 ],\n",
       "       [0.7891472 ],\n",
       "       [0.7907395 ],\n",
       "       [0.7710701 ],\n",
       "       [0.74081504],\n",
       "       [0.7142849 ],\n",
       "       [0.699437  ],\n",
       "       [0.69723624],\n",
       "       [0.70808476],\n",
       "       [0.7222249 ],\n",
       "       [0.7319317 ],\n",
       "       [0.74112225],\n",
       "       [0.74822336],\n",
       "       [0.7564911 ],\n",
       "       [0.7587357 ],\n",
       "       [0.7608123 ],\n",
       "       [0.7599229 ],\n",
       "       [0.757099  ],\n",
       "       [0.7539057 ],\n",
       "       [0.74946105],\n",
       "       [0.74477243],\n",
       "       [0.7428064 ],\n",
       "       [0.7438967 ],\n",
       "       [0.7468933 ],\n",
       "       [0.7539028 ],\n",
       "       [0.7542728 ],\n",
       "       [0.7550892 ],\n",
       "       [0.7488578 ],\n",
       "       [0.7369856 ],\n",
       "       [0.72575444],\n",
       "       [0.710906  ],\n",
       "       [0.70056504],\n",
       "       [0.6888516 ],\n",
       "       [0.67292416],\n",
       "       [0.662635  ],\n",
       "       [0.65937674],\n",
       "       [0.6587127 ],\n",
       "       [0.6584307 ],\n",
       "       [0.65137994],\n",
       "       [0.6404672 ],\n",
       "       [0.63508415],\n",
       "       [0.63665384],\n",
       "       [0.64171445],\n",
       "       [0.6507406 ],\n",
       "       [0.6564148 ],\n",
       "       [0.6602326 ],\n",
       "       [0.6608907 ],\n",
       "       [0.66012967],\n",
       "       [0.6516001 ],\n",
       "       [0.6421643 ],\n",
       "       [0.6378135 ],\n",
       "       [0.639038  ],\n",
       "       [0.6458295 ],\n",
       "       [0.66192627],\n",
       "       [0.68005645],\n",
       "       [0.69066775],\n",
       "       [0.69705075],\n",
       "       [0.6977123 ],\n",
       "       [0.6978516 ],\n",
       "       [0.7027711 ],\n",
       "       [0.7098289 ],\n",
       "       [0.72269887],\n",
       "       [0.7370684 ],\n",
       "       [0.74694055],\n",
       "       [0.73835915],\n",
       "       [0.7132521 ],\n",
       "       [0.684133  ],\n",
       "       [0.6721881 ],\n",
       "       [0.6765649 ],\n",
       "       [0.6888535 ],\n",
       "       [0.7039568 ],\n",
       "       [0.71775275],\n",
       "       [0.73702395],\n",
       "       [0.7559986 ],\n",
       "       [0.76444006],\n",
       "       [0.7589136 ],\n",
       "       [0.7508607 ],\n",
       "       [0.7468773 ],\n",
       "       [0.73705024],\n",
       "       [0.7244424 ],\n",
       "       [0.7176704 ],\n",
       "       [0.7227961 ],\n",
       "       [0.7366267 ],\n",
       "       [0.7517453 ],\n",
       "       [0.76879895],\n",
       "       [0.78588915],\n",
       "       [0.79352874],\n",
       "       [0.79451555],\n",
       "       [0.7952534 ],\n",
       "       [0.7992508 ],\n",
       "       [0.8058462 ],\n",
       "       [0.8121428 ],\n",
       "       [0.82249284],\n",
       "       [0.83614975],\n",
       "       [0.8413958 ],\n",
       "       [0.8347523 ],\n",
       "       [0.8233424 ],\n",
       "       [0.8139625 ],\n",
       "       [0.8084609 ],\n",
       "       [0.80565107],\n",
       "       [0.8100153 ],\n",
       "       [0.8088134 ],\n",
       "       [0.80535537],\n",
       "       [0.8048948 ],\n",
       "       [0.80492574],\n",
       "       [0.8054448 ],\n",
       "       [0.8042242 ],\n",
       "       [0.8058771 ],\n",
       "       [0.8109991 ],\n",
       "       [0.82021004],\n",
       "       [0.82918006],\n",
       "       [0.83934814],\n",
       "       [0.85157454],\n",
       "       [0.86681694],\n",
       "       [0.8771449 ],\n",
       "       [0.8746531 ],\n",
       "       [0.87750596],\n",
       "       [0.88540083],\n",
       "       [0.8964771 ],\n",
       "       [0.9040381 ],\n",
       "       [0.90275896],\n",
       "       [0.8938034 ],\n",
       "       [0.8827399 ],\n",
       "       [0.8729502 ],\n",
       "       [0.86436164],\n",
       "       [0.8557432 ],\n",
       "       [0.8521444 ],\n",
       "       [0.8474716 ],\n",
       "       [0.8454945 ],\n",
       "       [0.84551024],\n",
       "       [0.84957105],\n",
       "       [0.8509607 ],\n",
       "       [0.8495534 ],\n",
       "       [0.8478596 ],\n",
       "       [0.84519875],\n",
       "       [0.83915514],\n",
       "       [0.8292009 ],\n",
       "       [0.81525725],\n",
       "       [0.80227804],\n",
       "       [0.79696345],\n",
       "       [0.79673153],\n",
       "       [0.7982926 ],\n",
       "       [0.78679043],\n",
       "       [0.7667543 ],\n",
       "       [0.74916494],\n",
       "       [0.7377406 ],\n",
       "       [0.7256885 ],\n",
       "       [0.70999783],\n",
       "       [0.70764184],\n",
       "       [0.71350026],\n",
       "       [0.71910655],\n",
       "       [0.7199062 ],\n",
       "       [0.7185999 ],\n",
       "       [0.719212  ],\n",
       "       [0.7137847 ],\n",
       "       [0.7070705 ],\n",
       "       [0.6995398 ],\n",
       "       [0.6924647 ],\n",
       "       [0.6992175 ],\n",
       "       [0.7160229 ],\n",
       "       [0.73713607],\n",
       "       [0.7497534 ],\n",
       "       [0.7511156 ],\n",
       "       [0.7417519 ],\n",
       "       [0.72455674],\n",
       "       [0.7141201 ],\n",
       "       [0.71736425],\n",
       "       [0.7327066 ],\n",
       "       [0.7539249 ],\n",
       "       [0.77108765],\n",
       "       [0.775809  ],\n",
       "       [0.7743775 ],\n",
       "       [0.7709144 ],\n",
       "       [0.76945204],\n",
       "       [0.78528625],\n",
       "       [0.8098553 ],\n",
       "       [0.83023304],\n",
       "       [0.84454316],\n",
       "       [0.847165  ],\n",
       "       [0.85560876],\n",
       "       [0.86648494],\n",
       "       [0.8744235 ],\n",
       "       [0.87830144],\n",
       "       [0.8767135 ],\n",
       "       [0.87197053],\n",
       "       [0.8677694 ],\n",
       "       [0.8634017 ],\n",
       "       [0.86317074],\n",
       "       [0.860921  ],\n",
       "       [0.86321944],\n",
       "       [0.863055  ],\n",
       "       [0.84718966],\n",
       "       [0.8200588 ],\n",
       "       [0.79403585],\n",
       "       [0.775814  ],\n",
       "       [0.77343005],\n",
       "       [0.77841187],\n",
       "       [0.78469044],\n",
       "       [0.7885222 ],\n",
       "       [0.78291357],\n",
       "       [0.7714852 ],\n",
       "       [0.7567979 ],\n",
       "       [0.74470943],\n",
       "       [0.73751944],\n",
       "       [0.7354394 ],\n",
       "       [0.743705  ],\n",
       "       [0.7583888 ],\n",
       "       [0.77013224],\n",
       "       [0.77681303],\n",
       "       [0.7832867 ],\n",
       "       [0.7883999 ],\n",
       "       [0.7905881 ],\n",
       "       [0.7896342 ],\n",
       "       [0.7917819 ],\n",
       "       [0.7964117 ],\n",
       "       [0.80816835],\n",
       "       [0.8132285 ],\n",
       "       [0.8166443 ],\n",
       "       [0.81661254],\n",
       "       [0.81563705],\n",
       "       [0.82214576],\n",
       "       [0.8330974 ],\n",
       "       [0.84459794],\n",
       "       [0.847886  ],\n",
       "       [0.84246   ],\n",
       "       [0.8346994 ],\n",
       "       [0.83393085],\n",
       "       [0.8411969 ],\n",
       "       [0.8507345 ],\n",
       "       [0.8606031 ],\n",
       "       [0.8722899 ],\n",
       "       [0.880486  ],\n",
       "       [0.8850015 ],\n",
       "       [0.88354725],\n",
       "       [0.8794628 ],\n",
       "       [0.8734699 ],\n",
       "       [0.87420446],\n",
       "       [0.8761689 ],\n",
       "       [0.87964576],\n",
       "       [0.88299227],\n",
       "       [0.8822262 ],\n",
       "       [0.87876517],\n",
       "       [0.8848559 ],\n",
       "       [0.9110384 ],\n",
       "       [0.95322776],\n",
       "       [0.9872059 ],\n",
       "       [1.0031856 ],\n",
       "       [1.0036985 ],\n",
       "       [0.99456877],\n",
       "       [0.984815  ],\n",
       "       [0.9810338 ],\n",
       "       [0.9627697 ],\n",
       "       [0.9310394 ],\n",
       "       [0.9040122 ],\n",
       "       [0.88951   ],\n",
       "       [0.88768774],\n",
       "       [0.90347177],\n",
       "       [0.92171675],\n",
       "       [0.9227279 ],\n",
       "       [0.8971283 ]], dtype=float32)"
      ]
     },
     "execution_count": 14,
     "metadata": {},
     "output_type": "execute_result"
    }
   ],
   "source": [
    "test_predict"
   ]
  },
  {
   "cell_type": "markdown",
   "metadata": {},
   "source": [
    "### Scaling the results back to the original"
   ]
  },
  {
   "cell_type": "code",
   "execution_count": 15,
   "metadata": {},
   "outputs": [],
   "source": [
    "#  tranforms the scaled values back to the original\n",
    "train_predict=scaler.inverse_transform(train_predict)\n",
    "test_predict=scaler.inverse_transform(test_predict)\n",
    "# y_train=scaler.inverse_transform(y_train)\n",
    "# ytest=scaler.inverse_transform(ytest)\n",
    "\n"
   ]
  },
  {
   "cell_type": "code",
   "execution_count": 16,
   "metadata": {},
   "outputs": [
    {
     "data": {
      "text/plain": [
       "array([0.5190319 , 0.5430143 , 0.54147415, 0.54675468, 0.55335534,\n",
       "       0.54367437, 0.56919692, 0.5540154 , 0.5359736 , 0.57689769,\n",
       "       0.56391639, 0.56237624, 0.57931793, 0.60748075, 0.60660066,\n",
       "       0.59141914, 0.58987899, 0.58679868, 0.57865787, 0.59163916,\n",
       "       0.59493949, 0.60682068, 0.58921892, 0.58723872, 0.579978  ,\n",
       "       0.58789879, 0.62640264, 0.6310231 , 0.64664466, 0.64422442,\n",
       "       0.65808581, 0.66842684, 0.69834983, 0.69152915, 0.72189219,\n",
       "       0.73135314, 0.72739274, 0.72739274, 0.73311331, 0.74367437,\n",
       "       0.73663366, 0.74521452, 0.73531353, 0.72013201, 0.72783278,\n",
       "       0.71947195, 0.73509351, 0.78393839, 0.77073707, 0.80572057,\n",
       "       0.76061606, 0.76611661, 0.76787679, 0.77623762, 0.76149615,\n",
       "       0.78239824, 0.79647965, 0.8019802 , 0.78481848, 0.78019802,\n",
       "       0.78305831, 0.76237624, 0.75313531, 0.74081408, 0.73223322,\n",
       "       0.7410341 , 0.72321232, 0.73025303, 0.74939494, 0.78019802,\n",
       "       0.78371837, 0.77183718, 0.76193619, 0.74213421, 0.76171617,\n",
       "       0.75335534, 0.76963696, 0.74631463, 0.75951595, 0.76765677,\n",
       "       0.80462046, 0.74653465, 0.70143014, 0.68712871, 0.68272827,\n",
       "       0.68184818, 0.6860286 , 0.71023102, 0.70737074, 0.7049505 ,\n",
       "       0.73223322, 0.73553355, 0.75665567, 0.73817382, 0.75951595,\n",
       "       0.7469747 , 0.74565457, 0.74345435, 0.73267327, 0.72783278,\n",
       "       0.73179318, 0.73267327, 0.73355336, 0.74961496, 0.71947195,\n",
       "       0.74367437, 0.71045105, 0.70011001, 0.70121012, 0.66688669,\n",
       "       0.67942794, 0.64576458, 0.62024202, 0.63960396, 0.64048405,\n",
       "       0.63146315, 0.6310231 , 0.60286029, 0.60132013, 0.62464246,\n",
       "       0.63168317, 0.63190319, 0.65082508, 0.63674367, 0.64950495,\n",
       "       0.64422442, 0.64752475, 0.61342134, 0.62244224, 0.63146315,\n",
       "       0.63344334, 0.64466447, 0.68008801, 0.68074807, 0.66732673,\n",
       "       0.68668867, 0.67744774, 0.69042904, 0.70847085, 0.70693069,\n",
       "       0.73531353, 0.73905391, 0.73443344, 0.68118812, 0.65126513,\n",
       "       0.63938394, 0.67876788, 0.67986799, 0.67964796, 0.69284928,\n",
       "       0.70231023, 0.74939494, 0.75423542, 0.73751375, 0.72189219,\n",
       "       0.74059406, 0.74631463, 0.70187019, 0.69592959, 0.70847085,\n",
       "       0.73025303, 0.74015402, 0.74257426, 0.77007701, 0.78591859,\n",
       "       0.76875688, 0.77865787, 0.79273927, 0.80308031, 0.80792079,\n",
       "       0.80792079, 0.83256326, 0.84510451, 0.81958196, 0.80220022,\n",
       "       0.80154015, 0.80022002, 0.79405941, 0.7870187 , 0.80616062,\n",
       "       0.77029703, 0.77909791, 0.7909791 , 0.78349835, 0.78679868,\n",
       "       0.78063806, 0.79713971, 0.80528053, 0.82068207, 0.82222222,\n",
       "       0.84136414, 0.85874587, 0.88030803, 0.87216722, 0.84906491,\n",
       "       0.89724972, 0.89746975, 0.90649065, 0.89878988, 0.88294829,\n",
       "       0.87106711, 0.86512651, 0.85566557, 0.84180418, 0.82706271,\n",
       "       0.83586359, 0.81364136, 0.82442244, 0.82332233, 0.8369637 ,\n",
       "       0.82354235, 0.82574257, 0.83124312, 0.82640264, 0.81364136,\n",
       "       0.80044004, 0.78173817, 0.77733773, 0.78745875, 0.78107811,\n",
       "       0.77865787, 0.72629263, 0.71573157, 0.71925193, 0.71265127,\n",
       "       0.6809681 , 0.65786579, 0.70913091, 0.70253025, 0.69394939,\n",
       "       0.68866887, 0.69790979, 0.71045105, 0.67986799, 0.68844884,\n",
       "       0.67810781, 0.67282728, 0.72255226, 0.7320132 , 0.74763476,\n",
       "       0.72981298, 0.72563256, 0.71045105, 0.689989  , 0.71287129,\n",
       "       0.7320132 , 0.7489549 , 0.7630363 , 0.76039604, 0.74433443,\n",
       "       0.75841584, 0.75841584, 0.76369637, 0.82486249, 0.82970297,\n",
       "       0.8259626 , 0.84224422, 0.82684268, 0.88030803, 0.87590759,\n",
       "       0.87194719, 0.8730473 , 0.86358636, 0.85918592, 0.85830583,\n",
       "       0.84686469, 0.85610561, 0.83520352, 0.85654565, 0.83608361,\n",
       "       0.78305831, 0.759956  , 0.75313531, 0.74367437, 0.76611661,\n",
       "       0.75555556, 0.75753575, 0.75885589, 0.73575358, 0.73377338,\n",
       "       0.72057206, 0.72167217, 0.71991199, 0.72145215, 0.75181518,\n",
       "       0.76259626, 0.75621562, 0.76281628, 0.78393839, 0.78415842,\n",
       "       0.7819582 , 0.77887789, 0.79647965, 0.79713971, 0.82442244,\n",
       "       0.79163916, 0.81210121, 0.8019802 , 0.80506051, 0.8330033 ,\n",
       "       0.83608361, 0.84224422, 0.8239824 , 0.81562156, 0.81826183,\n",
       "       0.8369637 , 0.84642464, 0.84532453, 0.85588559, 0.8750275 ,\n",
       "       0.87062706, 0.87634763, 0.86644664, 0.86776678, 0.85830583,\n",
       "       0.87942794, 0.86512651, 0.87238724, 0.87194719, 0.86050605,\n",
       "       0.85940594, 0.89680968, 0.95489549, 1.        , 0.98921892,\n",
       "       0.99317932, 0.99713971, 0.9909791 , 0.99185919, 0.9960396 ,\n",
       "       0.9190319 , 0.88074807, 0.88118812, 0.87260726, 0.87062706,\n",
       "       0.90869087, 0.8990099 , 0.85984598, 0.80836084, 0.83960396])"
      ]
     },
     "execution_count": 16,
     "metadata": {},
     "output_type": "execute_result"
    }
   ],
   "source": [
    "ytest"
   ]
  },
  {
   "cell_type": "code",
   "execution_count": 17,
   "metadata": {},
   "outputs": [],
   "source": [
    "# changes the y_train and ytest values back to the original values, I had to transpose [y_train] and [x_train] so it\n",
    "# would be the same dimensions as the test_predict and train_predict\n",
    "y_train=scaler.inverse_transform(np.transpose([y_train]))\n",
    "ytest=scaler.inverse_transform(np.transpose([ytest]))"
   ]
  },
  {
   "cell_type": "code",
   "execution_count": 18,
   "metadata": {},
   "outputs": [
    {
     "name": "stdout",
     "output_type": "stream",
     "text": [
      "(340, 1)\n",
      "(340, 1)\n",
      "(717, 1)\n",
      "(717, 1)\n"
     ]
    }
   ],
   "source": [
    "print(ytest.shape)\n",
    "print(test_predict.shape)\n",
    "print(y_train.shape)\n",
    "print(train_predict.shape)"
   ]
  },
  {
   "cell_type": "markdown",
   "metadata": {},
   "source": [
    "## Displaying RMSE of testing and training data"
   ]
  },
  {
   "cell_type": "code",
   "execution_count": 19,
   "metadata": {},
   "outputs": [
    {
     "data": {
      "text/plain": [
       "1.5098536483292038"
      ]
     },
     "execution_count": 19,
     "metadata": {},
     "output_type": "execute_result"
    }
   ],
   "source": [
    "math.sqrt(mean_squared_error(y_train,train_predict))"
   ]
  },
  {
   "cell_type": "code",
   "execution_count": 20,
   "metadata": {},
   "outputs": [
    {
     "data": {
      "text/plain": [
       "1.3427850529138146"
      ]
     },
     "execution_count": 20,
     "metadata": {},
     "output_type": "execute_result"
    }
   ],
   "source": [
    "math.sqrt(mean_squared_error(ytest,test_predict))\n"
   ]
  },
  {
   "cell_type": "markdown",
   "metadata": {},
   "source": [
    "### Plotting the predictions along with the original graph of the closing cost"
   ]
  },
  {
   "cell_type": "code",
   "execution_count": 21,
   "metadata": {},
   "outputs": [
    {
     "data": {
      "image/png": "[encoded data removed]",
      "text/plain": [
       "<Figure size 432x288 with 1 Axes>"
      ]
     },
     "metadata": {
      "needs_background": "light"
     },
     "output_type": "display_data"
    }
   ],
   "source": [
    "\n",
    "look_back=100\n",
    "\n",
    "trainPredictPlot = np.empty_like(df1)\n",
    "trainPredictPlot[:, :] = np.nan\n",
    "trainPredictPlot[look_back:len(train_predict)+look_back, :] = train_predict\n",
    "\n",
    "testPredictPlot = np.empty_like(df1)\n",
    "testPredictPlot[:, :] = np.nan\n",
    "testPredictPlot[len(train_predict)+(look_back*2)+1:len(df1)-1, :] = test_predict\n",
    "\n",
    "plt.plot(scaler.inverse_transform(df1),label = \"Actual values\")\n",
    "plt.plot(trainPredictPlot,label = \"Training Prediction\")\n",
    "plt.plot(testPredictPlot, label = \"Testing Prediction\")\n",
    "plt.legend()\n",
    "plt.show()\n"
   ]
  }
 ],
 "metadata": {
  "interpreter": {
   "hash": "aee8b7b246df8f9039afb4144a1f6fd8d2ca17a180786b69acc140d282b71a49"
  },
  "kernelspec": {
   "display_name": "Python 3.10.0 64-bit",
   "language": "python",
   "name": "python3"
  },
  "language_info": {
   "codemirror_mode": {
    "name": "ipython",
    "version": 3
   },
   "file_extension": ".py",
   "mimetype": "text/x-python",
   "name": "python",
   "nbconvert_exporter": "python",
   "pygments_lexer": "ipython3",
   "version": "3.10.0"
  },
  "orig_nbformat": 4
 },
 "nbformat": 4,
 "nbformat_minor": 2
}
